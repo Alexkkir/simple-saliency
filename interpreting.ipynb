{
 "cells": [
  {
   "cell_type": "code",
   "execution_count": 1,
   "id": "203bf692-5e3d-4cef-8a29-b66a70d7d600",
   "metadata": {},
   "outputs": [],
   "source": [
    "import matplotlib.pyplot as plt\n",
    "from time import time\n",
    "import csv\n",
    "from tqdm import tqdm\n",
    "import pandas as pd\n",
    "import numpy as np\n",
    "import sys"
   ]
  },
  {
   "cell_type": "code",
   "execution_count": 2,
   "id": "69e03e1a-4a79-4f01-9143-51ad58035904",
   "metadata": {},
   "outputs": [],
   "source": [
    "folder = 'results_16_08'"
   ]
  },
  {
   "cell_type": "code",
   "execution_count": 3,
   "id": "a1097309-f7e3-4d32-89f7-e5235fbaab93",
   "metadata": {},
   "outputs": [],
   "source": [
    "df = pd.read_csv(f'{folder}/raw_copy.csv')\n",
    "\n",
    "# df['Name'] = df['Distorted'].apply(lambda x : (m := x.split('/')[3], m.replace('_x265', ''))[-1])\n",
    "df['Reference'] = df['Reference'].apply(lambda x : str(x).split('/')[-1])\n",
    "df['Distorted'] = df['Distorted'].apply(lambda x : str(x).split('/')[-1].split('.')[0])\n",
    "\n",
    "df.to_csv(f'{folder}/pp.csv', index=False)"
   ]
  },
  {
   "cell_type": "code",
   "execution_count": 4,
   "id": "62636e2f-f10d-4a5e-b01d-a98ace044865",
   "metadata": {},
   "outputs": [],
   "source": [
    "df = pd.read_csv(f'{folder}/pp.csv')\n",
    "subj = pd.read_csv('subjective_scores_2019.csv')\n",
    "\n",
    "result = pd.merge(df, subj, left_on = 'Distorted', right_on = 'Video_name')\n",
    "result.to_csv(f'{folder}/merged.csv', index=False)"
   ]
  },
  {
   "cell_type": "code",
   "execution_count": 5,
   "id": "7b5f37ac-ebe9-42c2-b1a3-c0c8bec4a414",
   "metadata": {},
   "outputs": [
    {
     "name": "stdout",
     "output_type": "stream",
     "text": [
      "                            Pearson Spearman\n",
      "Metric Sequence      Mask                   \n",
      "ssim   tractor_short False  0.94034  0.90977\n",
      "                     True   0.94186  0.90376\n",
      "              Pearson Spearman\n",
      "Metric Mask                   \n",
      "ssim   False  0.94034  0.90977\n",
      "       True   0.94186  0.90376\n"
     ]
    }
   ],
   "source": [
    "data = pd.read_csv(f'{folder}/merged.csv')\n",
    "\n",
    "MODE = ['pearson', 'spearman']\n",
    "data = pd.read_csv(f'{folder}/merged.csv')\n",
    "metrics = ['ssim']\n",
    "presets = sorted(set(data['Preset']))\n",
    "\n",
    "def calc_corr(x, mode):\n",
    "    return np.array(x.corr(mode))[0, 1]\n",
    "\n",
    "tables_str = {metric: dict() for metric in metrics}\n",
    "tables_val = {metric: {False: [], True: []} for metric in metrics}\n",
    "\n",
    "corr = data.copy()\n",
    "corr = corr.groupby(['Metric', 'Mask', 'Sequence', 'Preset'], group_keys=True)\\\n",
    "    .apply(lambda x : pd.Series(\n",
    "        [calc_corr(x[['Metric_val', 'Subjective']], MODE[0]), calc_corr(x[['Metric_val', 'Subjective']], MODE[1]), len(x)], \n",
    "        index=[MODE[0], MODE[1], 'Sample_size']\n",
    "))\n",
    "\n",
    "def print_f(f):\n",
    "    return '%.5f' % (f,)\n",
    "\n",
    "def DescrStatsW(col, weights):\n",
    "    total = weights.sum()\n",
    "    col *= weights / total * len(col)\n",
    "    return col\n",
    "\n",
    "def weigh_func(col, weights, mode='mean'):\n",
    "    st = DescrStatsW(col, weights=weights)\n",
    "    return st.mean()\n",
    "\n",
    "def average_rho(corrs: pd.Series, weights: pd.Series):\n",
    "    corrs = pd.DataFrame(corrs)\n",
    "    d = corrs.apply(lambda x: np.arctanh(x)).replace([np.inf, -np.inf], [np.arctanh(0.99), np.arctanh(-0.99)]) \\\n",
    "               .apply(lambda x: weigh_func(x, weights, 'mean')) \\\n",
    "               .apply(lambda x: np.tanh(x)).abs().replace([0.99], [1])\n",
    "    return float(d)\n",
    "\n",
    "corr_by_video = corr.groupby(['Metric', 'Sequence', 'Mask']).apply(lambda row : \\\n",
    "    pd.Series([\n",
    "        print_f(average_rho(row[MODE[0]], row['Sample_size'])), \n",
    "        print_f(average_rho(row[MODE[1]], row['Sample_size']))], \n",
    "    index=[MODE[0].capitalize(), MODE[1].capitalize()]))\n",
    "corr_by_metric = corr.groupby(['Metric', 'Mask']).apply(lambda row : \\\n",
    "    pd.Series([\n",
    "        print_f(average_rho(row[MODE[0]], row['Sample_size'])), \n",
    "        print_f(average_rho(row[MODE[1]], row['Sample_size']))], \n",
    "    index=[MODE[0].capitalize(), MODE[1].capitalize()]))\n",
    "\n",
    "print(corr_by_video)\n",
    "print(corr_by_metric)\n",
    "\n",
    "corr_by_video.to_excel(f'{folder}/corr_by_video.xlsx')\n",
    "corr_by_metric.to_excel(f'{folder}/corr_by_metric.xlsx')\n",
    "\n",
    "corr_by_video.reset_index().to_csv(f'{folder}/corr_by_video.csv', index=False)\n",
    "corr_by_metric.reset_index().to_csv(f'{folder}/corr_by_metric.csv', index=False)\n"
   ]
  },
  {
   "cell_type": "code",
   "execution_count": 6,
   "id": "de896b32-2cad-41c8-a16a-a76847e31dfb",
   "metadata": {},
   "outputs": [
    {
     "data": {
      "text/html": [
       "<div>\n",
       "<style scoped>\n",
       "    .dataframe tbody tr th:only-of-type {\n",
       "        vertical-align: middle;\n",
       "    }\n",
       "\n",
       "    .dataframe tbody tr th {\n",
       "        vertical-align: top;\n",
       "    }\n",
       "\n",
       "    .dataframe thead th {\n",
       "        text-align: right;\n",
       "    }\n",
       "</style>\n",
       "<table border=\"1\" class=\"dataframe\">\n",
       "  <thead>\n",
       "    <tr style=\"text-align: right;\">\n",
       "      <th></th>\n",
       "      <th></th>\n",
       "      <th></th>\n",
       "      <th></th>\n",
       "      <th>pearson</th>\n",
       "      <th>spearman</th>\n",
       "      <th>Sample_size</th>\n",
       "    </tr>\n",
       "    <tr>\n",
       "      <th>Metric</th>\n",
       "      <th>Mask</th>\n",
       "      <th>Sequence</th>\n",
       "      <th>Preset</th>\n",
       "      <th></th>\n",
       "      <th></th>\n",
       "      <th></th>\n",
       "    </tr>\n",
       "  </thead>\n",
       "  <tbody>\n",
       "    <tr>\n",
       "      <th rowspan=\"2\" valign=\"top\">ssim</th>\n",
       "      <th>False</th>\n",
       "      <th>tractor_short</th>\n",
       "      <th>mv_subjective</th>\n",
       "      <td>0.940339</td>\n",
       "      <td>0.909774</td>\n",
       "      <td>20.0</td>\n",
       "    </tr>\n",
       "    <tr>\n",
       "      <th>True</th>\n",
       "      <th>tractor_short</th>\n",
       "      <th>mv_subjective</th>\n",
       "      <td>0.941857</td>\n",
       "      <td>0.903759</td>\n",
       "      <td>20.0</td>\n",
       "    </tr>\n",
       "  </tbody>\n",
       "</table>\n",
       "</div>"
      ],
      "text/plain": [
       "                                           pearson  spearman  Sample_size\n",
       "Metric Mask  Sequence      Preset                                        \n",
       "ssim   False tractor_short mv_subjective  0.940339  0.909774         20.0\n",
       "       True  tractor_short mv_subjective  0.941857  0.903759         20.0"
      ]
     },
     "execution_count": 6,
     "metadata": {},
     "output_type": "execute_result"
    }
   ],
   "source": [
    "data.copy().groupby(['Metric', 'Mask', 'Sequence', 'Preset'], group_keys=True)\\\n",
    "    .apply(lambda x : pd.Series(\n",
    "        [calc_corr(x[['Metric_val', 'Subjective']], MODE[0]), calc_corr(x[['Metric_val', 'Subjective']], MODE[1]), len(x)], \n",
    "        index=[MODE[0], MODE[1], 'Sample_size']\n",
    "))"
   ]
  },
  {
   "cell_type": "code",
   "execution_count": 7,
   "id": "eff09cd4-0e0f-4d57-8b2b-66f195469f6e",
   "metadata": {},
   "outputs": [
    {
     "data": {
      "image/png": "[encoded data removed]",
      "text/plain": [
       "<Figure size 576x504 with 1 Axes>"
      ]
     },
     "metadata": {
      "needs_background": "light"
     },
     "output_type": "display_data"
    }
   ],
   "source": [
    "corr = 'Pearson'\n",
    "data = pd.read_csv(f'{folder}/merged.csv')\n",
    "by_seq = pd.read_csv(f'{folder}/corr_by_video.csv')\n",
    "by_metr = pd.read_csv(f'{folder}/corr_by_metric.csv')\n",
    "\n",
    "names = sorted(set(data['Sequence']))\n",
    "\n",
    "for metric in ['ssim']:\n",
    "    fig, ax = plt.subplots(figsize=(8, 7))\n",
    "\n",
    "    for mask in [False, True]:\n",
    "        for name in names:\n",
    "            df = data[(data['Sequence'] == name) & (data['Mask'] == mask) & (data['Metric'] == metric)]\n",
    "\n",
    "            met = np.array(df['Metric_val'])\n",
    "            subj = np.array(df['Subjective'])\n",
    "            r = float(by_seq[(by_seq['Sequence'] == name) & (by_seq['Mask'] == mask) & (by_seq['Metric'] == metric)][corr])\n",
    "\n",
    "            ax.scatter(subj, met, label=f'%s, %-6s PCC=%.3f' % (name, str(mask) + ',', r))\n",
    "        ro_total = float(by_metr[(by_metr['Mask'] == mask) & (by_metr['Metric'] == metric)][corr])\n",
    "        ax.set_title(f'metric={metric}, mask={mask}, PCC=%.3f' % (ro_total))\n",
    "        ax.set_xlabel('Subjective')\n",
    "        ax.set_ylabel('Metric')\n",
    "        ax.legend(loc='lower right')\n",
    "        fig.show()\n",
    "\n",
    "        fig.savefig(f'{folder}/metric={metric}_mask={mask}.jpg')\n",
    "\n",
    "        xlims, ylims = ax.get_xlim(), ax.get_ylim()\n",
    "        ax.clear()\n",
    "        ax.set_xlim(xlims)\n",
    "        ax.set_ylim(ylims)\n"
   ]
  }
 ],
 "metadata": {
  "kernelspec": {
   "display_name": "Python 3 (ipykernel)",
   "language": "python",
   "name": "python3"
  },
  "language_info": {
   "codemirror_mode": {
    "name": "ipython",
    "version": 3
   },
   "file_extension": ".py",
   "mimetype": "text/x-python",
   "name": "python",
   "nbconvert_exporter": "python",
   "pygments_lexer": "ipython3",
   "version": "3.9.7"
  }
 },
 "nbformat": 4,
 "nbformat_minor": 5
}
