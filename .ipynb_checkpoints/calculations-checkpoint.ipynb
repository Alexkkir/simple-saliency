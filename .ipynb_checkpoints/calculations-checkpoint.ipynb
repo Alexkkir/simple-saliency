{
 "cells": [
  {
   "cell_type": "code",
   "execution_count": 1,
   "id": "16e1bedf-7ecc-4222-b646-aca3e63d1ae8",
   "metadata": {},
   "outputs": [],
   "source": [
    "import sal_ssim\n",
    "import sal_ssim_fullframe\n",
    "import piq\n",
    "\n",
    "import numpy as np\n",
    "from pathlib import Path\n",
    "import os\n",
    "from time import time\n",
    "import pickle as pkl\n",
    "from utils import *\n",
    "\n",
    "import logging\n"
   ]
  },
  {
   "cell_type": "code",
   "execution_count": 2,
   "id": "2b21408a-5250-4eee-b9fd-ac308304a796",
   "metadata": {},
   "outputs": [],
   "source": [
    "DATASET = Path('/home/a_mos/2019')\n",
    "OUTPUT = Path(os.getcwd()) / 'results_17_08'"
   ]
  },
  {
   "cell_type": "code",
   "execution_count": 3,
   "id": "b2433f12-8a25-4801-9781-50c3e2c1306d",
   "metadata": {},
   "outputs": [],
   "source": [
    "PKL_ARRAYS = OUTPUT / 'pkl_arrays'\n",
    "RESULTS = OUTPUT / 'raw.csv'\n",
    "ERRORS =  OUTPUT / 'errors.txt'\n",
    "LOG_FILE = OUTPUT / 'log.txt'\n",
    "\n",
    "HEADERS = 'Name,Reference,Distorted,Metric,Metric_val,Mask,Time'.split(',')\n",
    "\n",
    "if not os.path.exists(OUTPUT):\n",
    "    os.mkdir(str(OUTPUT))\n",
    "if not os.path.exists(PKL_ARRAYS):\n",
    "    os.mkdir(str(PKL_ARRAYS))\n",
    "    \n",
    "log = get_logger(LOG_FILE)\n",
    "log.debug('Started logging')"
   ]
  },
  {
   "cell_type": "code",
   "execution_count": 16,
   "id": "511f8c3a-f022-4745-a693-921786f84fee",
   "metadata": {},
   "outputs": [],
   "source": [
    "def compute(seq, ref, dis, mask, iteration, length):\n",
    "    log.debug('Computations started on sequence:')\n",
    "    log.debug(dis)\n",
    "        \n",
    "    time_start_video = time()\n",
    "    try:\n",
    "        if not IDLE:\n",
    "            ssim_vals_simple = []\n",
    "            ssim_vals_weighted = []\n",
    "            ssim_vals_fullframe = []\n",
    "            \n",
    "            log.debug('Preparing video readers')\n",
    "            vr_dis = VideoReader(dis, verbose=False)\n",
    "            vr_ref = VideoReader(ref, shape=vr_dis.shape)\n",
    "            vr_mask = VideoReader(mask, shape=vr_dis.shape)\n",
    "            log.debug('Video readers ready')\n",
    "\n",
    "            for batch_num, (batch_ref, batch_dis, batch_mask) in enumerate(zip(vr_dis, vr_ref, vr_mask)):\n",
    "                total_batches = vr_dis.len // vr_dis.batch_size\n",
    "                log.debug('Batch progress: %3d%% [%03d/%03d]' % (batch_num / total_batches * 100, batch_num, total_batches))\n",
    "                log.debug(f'Shapes: {batch_ref.shape}, {batch_dis.shape}, {batch_mask.shape}')\n",
    "                log.debug(f'Means:, {batch_ref.mean()}, {batch_dis.mean()}, {batch_mask.mean()}')\n",
    "                    \n",
    "                ssim_vals_simple.append(\n",
    "                    piq.ssim(batch_ref, batch_dis))\n",
    "                ssim_vals_weighted.append(\n",
    "                    sal_ssim.ssim(batch_ref, batch_dis, batch_mask))\n",
    "                ssim_vals_fullframe.append(\n",
    "                    sal_ssim_fullframe.ssim(batch_ref, batch_dis, batch_mask))\n",
    "                log.debug(f'Ssim:, {ssim_vals_simple[-1]}, {ssim_vals_weighted[-1]}, {ssim_vals_fullframe[-1]}')\n",
    "            \n",
    "            dis_filename = dis.split('/')[-1]\n",
    "            with open(str(PKL_ARRAYS/ f'{dis_filename}_simple.pkl'), 'wb') as f:\n",
    "                log.debug(f'Save dir:, {PKL_ARRAYS}')\n",
    "                log.debug(f'Saved to:, {str(PKL_ARRAYS/ f\"{dis_filename}_simple.pkl\")}')\n",
    "                pkl.dump(ssim_vals_simple, f)\n",
    "            with open(str(PKL_ARRAYS / f'{dis_filename}_weighted.pkl'), 'wb') as f:\n",
    "                pkl.dump(ssim_vals_weighted, f)\n",
    "            with open(str(PKL_ARRAYS / f'{dis_filename}_fullframe.pkl'), 'wb') as f:\n",
    "                pkl.dump(ssim_vals_fullframe, f)\n",
    "                    \n",
    "            metric_simple = safe_mean(ssim_vals_simple)\n",
    "            metric_weighted = safe_mean(ssim_vals_weighted)\n",
    "            metric_fullframe = safe_mean(ssim_vals_fullframe)\n",
    "        else:\n",
    "            metric_simple = 0.1\n",
    "            metric_weighted = 0.2\n",
    "            metric_fullframe = 0.3\n",
    "                      \n",
    "        time_calc = int(time() - time_start_video)\n",
    "                      \n",
    "                    \n",
    "        row_1 = [seq, ref, dis, 'ssim_simple', round(metric_simple, 4), False, time_calc / 3]\n",
    "        row_2 = [seq, ref, dis, 'ssim_weighted', round(metric_weighted, 4), True, time_calc / 3]\n",
    "        row_3 = [seq, ref, dis, 'ssim_fullframe', round(metric_fullframe, 4), True, time_calc / 3]\n",
    "                      \n",
    "        writer_results.write_row(row_1)\n",
    "        writer_results.write_row(row_2)\n",
    "        writer_results.write_row(row_3)\n",
    "                      \n",
    "        log.info(\"%3d%% [%03d/%03d]      %.3f  %.3f  %.3f      %02d:%02d      %-70s \" % \n",
    "              (iteration / length * 100, iteration, length, \n",
    "               metric_simple, metric_weighted, metric_fullframe,\n",
    "               time_calc // 60, time_calc % 60, dis_filename))\n",
    "    except:\n",
    "        print(traceback.format_exc())\n",
    "        log.error(f'seq: {seq}, ref: {ref}, dis: {dis}, mask: {mask}')"
   ]
  },
  {
   "cell_type": "code",
   "execution_count": 5,
   "id": "bead6e89-d150-4168-ab90-909a12b32290",
   "metadata": {},
   "outputs": [],
   "source": [
    "def make_runconfig(dataset):\n",
    "    runconfig = deepcopy(dataset)\n",
    "    for seq in dataset:\n",
    "        del runconfig[seq]['dis']\n",
    "        runconfig[seq]['exp'] = []\n",
    "        runconfig[seq]['exp'] = [\n",
    "            {\n",
    "                'dis': dis,\n",
    "                # 'metric': metric,\n",
    "                # 'mask_mode': mask_mode\n",
    "            } for\n",
    "            # metric in metrics for mask_mode in mask_modes for \n",
    "            dis in dataset[seq]['dis']\n",
    "        ]\n",
    "    return runconfig"
   ]
  },
  {
   "cell_type": "code",
   "execution_count": 6,
   "id": "9bf8619b-0117-4043-aa0a-c23345ee3c58",
   "metadata": {},
   "outputs": [],
   "source": [
    "dataset = json_representation_of_dataset(DATASET)\n",
    "global_runconfig = make_runconfig(dataset)"
   ]
  },
  {
   "cell_type": "code",
   "execution_count": 7,
   "id": "26648bc7-406d-4cf6-a7d5-add02aae1b9e",
   "metadata": {},
   "outputs": [
    {
     "name": "stdout",
     "output_type": "stream",
     "text": [
      "{\n",
      "    \"crowd_run\": {\n",
      "        \"mask\": \"/home/a_mos/2019/masks/crowd_run_mask.mp4\",\n",
      "        \"ref\": \"/home/a_mos/2019/ref/crowd_run_short_1920x1080_50.yuv\",\n",
      "        \"exp\": [\n",
      "            {\n",
      "                \"dis\": \"/home/a_mos/2019/seq/crowd_run_x265/enc_res_bytedance_mv_subjective_crowd_run_short_1000.mp4\"\n",
      "            },\n",
      "            {\n",
      "                \"dis\": \"/home/a_mos/2019/seq/crowd_run_x265/enc_res_bytedance_mv_subjective_crowd_run_short_2000.mp4\"\n",
      "            },\n",
      "            {\n",
      "                \"dis\": \"/home/a_mos/2019/seq/crowd_run_x265/enc_res_bytedance_mv_subjective_crowd_run_short_4000.mp4\"\n",
      "            },\n",
      "            {\n",
      "                \"dis\": \"/home/a_mos/2019/seq/crowd_run_x265/enc_res_huawei_mv_subjective_crowd_run_short_1000.mp4\"\n",
      "            },\n",
      "            {\n",
      "                \"dis\": \"/home/a_mos/2019/seq/crowd_run_x265/enc_res_huawei_mv_subjective_crowd_run_short_2000.mp4\"\n",
      "            },\n",
      "            {\n",
      "                \"dis\": \"/home/a_mos/2019/seq/crowd_run_x265/enc_res_huawei_mv_subjecti\n"
     ]
    }
   ],
   "source": [
    "print(json.dumps(global_runconfig, indent=4)[:1000])"
   ]
  },
  {
   "cell_type": "code",
   "execution_count": 8,
   "id": "f6cfe866-f706-4d68-868a-288d8c1afa73",
   "metadata": {},
   "outputs": [
    {
     "name": "stdout",
     "output_type": "stream",
     "text": [
      "36\n"
     ]
    }
   ],
   "source": [
    "writer_results = MyWriter(RESULTS)\n",
    "writer_results.write_row(HEADERS)\n",
    "\n",
    "all_sequences = np.array(['crowd_run', 'kayak_trip', 'tractor', 'making_alcohol', 'wedding_party'])\n",
    "sequences = all_sequences[[0]]\n",
    "runconfig = {seq: global_runconfig[seq] for seq in sequences}\n",
    "length = sum(len(runconfig[seq]['exp']) for seq in runconfig)\n",
    "print(length)"
   ]
  },
  {
   "cell_type": "code",
   "execution_count": 9,
   "id": "55ec8943-e6e6-46b6-8eb2-1ee265310ab6",
   "metadata": {},
   "outputs": [],
   "source": [
    "# print(json.dumps(runconfig, indent=4)[:])"
   ]
  },
  {
   "cell_type": "code",
   "execution_count": null,
   "id": "a071d5b8-92dc-4848-ab21-5994da926776",
   "metadata": {},
   "outputs": [],
   "source": [
    "IDLE = False\n",
    "\n",
    "command_handler = CommandHandler(2)\n",
    "\n",
    "iteration = 0\n",
    "for seq in runconfig:\n",
    "    for exp in runconfig[seq]['exp']:\n",
    "        ref = runconfig[seq]['ref']\n",
    "        mask = runconfig[seq]['mask']\n",
    "        dis = exp['dis']\n",
    "\n",
    "        args = (seq, ref, dis, mask, iteration, length)\n",
    "        command_handler.run(target=compute, args=args)\n",
    "\n",
    "        iteration += 1"
   ]
  }
 ],
 "metadata": {
  "kernelspec": {
   "display_name": "Python 3 (ipykernel)",
   "language": "python",
   "name": "python3"
  },
  "language_info": {
   "codemirror_mode": {
    "name": "ipython",
    "version": 3
   },
   "file_extension": ".py",
   "mimetype": "text/x-python",
   "name": "python",
   "nbconvert_exporter": "python",
   "pygments_lexer": "ipython3",
   "version": "3.9.7"
  }
 },
 "nbformat": 4,
 "nbformat_minor": 5
}
